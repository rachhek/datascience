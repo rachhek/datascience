{
 "cells": [
  {
   "cell_type": "markdown",
   "metadata": {},
   "source": [
    "## Hyper-parameter tuning"
   ]
  },
  {
   "cell_type": "markdown",
   "metadata": {},
   "source": [
    "- In case of KMeans clustering, use the elbow method to find the sweet spot of value of clusters\n",
    "- plotl the silhouette score for different cluster values"
   ]
  },
  {
   "cell_type": "code",
   "execution_count": 4,
   "metadata": {},
   "outputs": [],
   "source": [
    "import pandas as pd\n",
    "import matplotlib.pyplot as plt\n",
    "import numpy as np\n",
    "\n",
    "from sklearn import metrics\n",
    "from sklearn.metrics import silhouette_score\n",
    "\n",
    "#We can't use GridSearch in case of clustering because grid search uses cross validation to tune the \n",
    "#parameter. But in case of clustering algorithm, cross validation does not make sense.\n",
    "from sklearn.model_selection import ParameterGrid\n",
    "\n",
    "from sklearn.cluster import KMeans\n",
    "from sklearn.cluster import DBSCAN\n",
    "from sklearn.cluster import MeanShift"
   ]
  },
  {
   "cell_type": "code",
   "execution_count": 6,
   "metadata": {},
   "outputs": [
    {
     "data": {
      "text/html": [
       "<div>\n",
       "<style scoped>\n",
       "    .dataframe tbody tr th:only-of-type {\n",
       "        vertical-align: middle;\n",
       "    }\n",
       "\n",
       "    .dataframe tbody tr th {\n",
       "        vertical-align: top;\n",
       "    }\n",
       "\n",
       "    .dataframe thead th {\n",
       "        text-align: right;\n",
       "    }\n",
       "</style>\n",
       "<table border=\"1\" class=\"dataframe\">\n",
       "  <thead>\n",
       "    <tr style=\"text-align: right;\">\n",
       "      <th></th>\n",
       "      <th>Driver_ID</th>\n",
       "      <th>Distance_Feature</th>\n",
       "      <th>Speeding_Feature</th>\n",
       "    </tr>\n",
       "  </thead>\n",
       "  <tbody>\n",
       "    <tr>\n",
       "      <th>0</th>\n",
       "      <td>3423311935</td>\n",
       "      <td>71.24</td>\n",
       "      <td>28</td>\n",
       "    </tr>\n",
       "    <tr>\n",
       "      <th>1</th>\n",
       "      <td>3423313212</td>\n",
       "      <td>52.53</td>\n",
       "      <td>25</td>\n",
       "    </tr>\n",
       "    <tr>\n",
       "      <th>2</th>\n",
       "      <td>3423313724</td>\n",
       "      <td>64.54</td>\n",
       "      <td>27</td>\n",
       "    </tr>\n",
       "    <tr>\n",
       "      <th>3</th>\n",
       "      <td>3423311373</td>\n",
       "      <td>55.69</td>\n",
       "      <td>22</td>\n",
       "    </tr>\n",
       "    <tr>\n",
       "      <th>4</th>\n",
       "      <td>3423310999</td>\n",
       "      <td>54.58</td>\n",
       "      <td>25</td>\n",
       "    </tr>\n",
       "  </tbody>\n",
       "</table>\n",
       "</div>"
      ],
      "text/plain": [
       "    Driver_ID  Distance_Feature  Speeding_Feature\n",
       "0  3423311935             71.24                28\n",
       "1  3423313212             52.53                25\n",
       "2  3423313724             64.54                27\n",
       "3  3423311373             55.69                22\n",
       "4  3423310999             54.58                25"
      ]
     },
     "execution_count": 6,
     "metadata": {},
     "output_type": "execute_result"
    }
   ],
   "source": [
    "drivers_df = pd.read_csv(\"datasets/driver_details.csv\")\n",
    "drivers_df.head()"
   ]
  },
  {
   "cell_type": "code",
   "execution_count": 8,
   "metadata": {},
   "outputs": [
    {
     "data": {
      "text/plain": [
       "(4000, 3)"
      ]
     },
     "execution_count": 8,
     "metadata": {},
     "output_type": "execute_result"
    }
   ],
   "source": [
    "drivers_df.shape"
   ]
  },
  {
   "cell_type": "code",
   "execution_count": 11,
   "metadata": {},
   "outputs": [
    {
     "data": {
      "text/html": [
       "<div>\n",
       "<style scoped>\n",
       "    .dataframe tbody tr th:only-of-type {\n",
       "        vertical-align: middle;\n",
       "    }\n",
       "\n",
       "    .dataframe tbody tr th {\n",
       "        vertical-align: top;\n",
       "    }\n",
       "\n",
       "    .dataframe thead th {\n",
       "        text-align: right;\n",
       "    }\n",
       "</style>\n",
       "<table border=\"1\" class=\"dataframe\">\n",
       "  <thead>\n",
       "    <tr style=\"text-align: right;\">\n",
       "      <th></th>\n",
       "      <th>Driver_ID</th>\n",
       "      <th>Distance_Feature</th>\n",
       "      <th>Speeding_Feature</th>\n",
       "    </tr>\n",
       "  </thead>\n",
       "  <tbody>\n",
       "  </tbody>\n",
       "</table>\n",
       "</div>"
      ],
      "text/plain": [
       "Empty DataFrame\n",
       "Columns: [Driver_ID, Distance_Feature, Speeding_Feature]\n",
       "Index: []"
      ]
     },
     "execution_count": 11,
     "metadata": {},
     "output_type": "execute_result"
    }
   ],
   "source": [
    "drivers_df[drivers_df.isnull().any(axis=1)]"
   ]
  },
  {
   "cell_type": "code",
   "execution_count": 12,
   "metadata": {},
   "outputs": [
    {
     "data": {
      "text/html": [
       "<div>\n",
       "<style scoped>\n",
       "    .dataframe tbody tr th:only-of-type {\n",
       "        vertical-align: middle;\n",
       "    }\n",
       "\n",
       "    .dataframe tbody tr th {\n",
       "        vertical-align: top;\n",
       "    }\n",
       "\n",
       "    .dataframe thead th {\n",
       "        text-align: right;\n",
       "    }\n",
       "</style>\n",
       "<table border=\"1\" class=\"dataframe\">\n",
       "  <thead>\n",
       "    <tr style=\"text-align: right;\">\n",
       "      <th></th>\n",
       "      <th>Driver_ID</th>\n",
       "      <th>Distance_Feature</th>\n",
       "      <th>Speeding_Feature</th>\n",
       "    </tr>\n",
       "  </thead>\n",
       "  <tbody>\n",
       "    <tr>\n",
       "      <th>count</th>\n",
       "      <td>4.000000e+03</td>\n",
       "      <td>4000.000000</td>\n",
       "      <td>4000.000000</td>\n",
       "    </tr>\n",
       "    <tr>\n",
       "      <th>mean</th>\n",
       "      <td>3.423312e+09</td>\n",
       "      <td>76.041523</td>\n",
       "      <td>10.721000</td>\n",
       "    </tr>\n",
       "    <tr>\n",
       "      <th>std</th>\n",
       "      <td>1.154845e+03</td>\n",
       "      <td>53.469563</td>\n",
       "      <td>13.708543</td>\n",
       "    </tr>\n",
       "    <tr>\n",
       "      <th>min</th>\n",
       "      <td>3.423310e+09</td>\n",
       "      <td>15.520000</td>\n",
       "      <td>0.000000</td>\n",
       "    </tr>\n",
       "    <tr>\n",
       "      <th>25%</th>\n",
       "      <td>3.423311e+09</td>\n",
       "      <td>45.247500</td>\n",
       "      <td>4.000000</td>\n",
       "    </tr>\n",
       "    <tr>\n",
       "      <th>50%</th>\n",
       "      <td>3.423312e+09</td>\n",
       "      <td>53.330000</td>\n",
       "      <td>6.000000</td>\n",
       "    </tr>\n",
       "    <tr>\n",
       "      <th>75%</th>\n",
       "      <td>3.423313e+09</td>\n",
       "      <td>65.632500</td>\n",
       "      <td>9.000000</td>\n",
       "    </tr>\n",
       "    <tr>\n",
       "      <th>max</th>\n",
       "      <td>3.423314e+09</td>\n",
       "      <td>244.790000</td>\n",
       "      <td>100.000000</td>\n",
       "    </tr>\n",
       "  </tbody>\n",
       "</table>\n",
       "</div>"
      ],
      "text/plain": [
       "          Driver_ID  Distance_Feature  Speeding_Feature\n",
       "count  4.000000e+03       4000.000000       4000.000000\n",
       "mean   3.423312e+09         76.041523         10.721000\n",
       "std    1.154845e+03         53.469563         13.708543\n",
       "min    3.423310e+09         15.520000          0.000000\n",
       "25%    3.423311e+09         45.247500          4.000000\n",
       "50%    3.423312e+09         53.330000          6.000000\n",
       "75%    3.423313e+09         65.632500          9.000000\n",
       "max    3.423314e+09        244.790000        100.000000"
      ]
     },
     "execution_count": 12,
     "metadata": {},
     "output_type": "execute_result"
    }
   ],
   "source": [
    "drivers_df.describe()"
   ]
  },
  {
   "cell_type": "code",
   "execution_count": 13,
   "metadata": {},
   "outputs": [],
   "source": [
    "drivers_feature = drivers_df.drop('Driver_ID',axis=1)"
   ]
  },
  {
   "cell_type": "code",
   "execution_count": 16,
   "metadata": {},
   "outputs": [],
   "source": [
    "parameters = {'n_clusters':[2,3,5,6,7,8,10,20,30]}\n",
    "parameter_grid = ParameterGrid(parameters)"
   ]
  },
  {
   "cell_type": "markdown",
   "metadata": {},
   "source": [
    "Here, we will try to find the Silhouette score of every parameter to find the best cluster number. The reason for choosing silhouette score is because we do not have the labelled data"
   ]
  },
  {
   "cell_type": "code",
   "execution_count": 18,
   "metadata": {},
   "outputs": [
    {
     "data": {
      "text/plain": [
       "[{'n_clusters': 2},\n",
       " {'n_clusters': 3},\n",
       " {'n_clusters': 5},\n",
       " {'n_clusters': 6},\n",
       " {'n_clusters': 7},\n",
       " {'n_clusters': 8},\n",
       " {'n_clusters': 10},\n",
       " {'n_clusters': 20},\n",
       " {'n_clusters': 30}]"
      ]
     },
     "execution_count": 18,
     "metadata": {},
     "output_type": "execute_result"
    }
   ],
   "source": [
    "list(parameter_grid)"
   ]
  },
  {
   "cell_type": "code",
   "execution_count": 19,
   "metadata": {},
   "outputs": [],
   "source": [
    "best_score = -1\n",
    "model = KMeans()"
   ]
  },
  {
   "cell_type": "code",
   "execution_count": 23,
   "metadata": {},
   "outputs": [
    {
     "name": "stdout",
     "output_type": "stream",
     "text": [
      "Parameter:  {'n_clusters': 2} Score:  0.8490223286225532\n",
      "Parameter:  {'n_clusters': 3} Score:  0.8231396834167266\n",
      "Parameter:  {'n_clusters': 5} Score:  0.5125035310570826\n",
      "Parameter:  {'n_clusters': 6} Score:  0.48561104817990663\n",
      "Parameter:  {'n_clusters': 7} Score:  0.4604695933915756\n",
      "Parameter:  {'n_clusters': 8} Score:  0.4504330858464738\n",
      "Parameter:  {'n_clusters': 10} Score:  0.436061731194893\n",
      "Parameter:  {'n_clusters': 20} Score:  0.3719050711373027\n",
      "Parameter:  {'n_clusters': 30} Score:  0.3411112962981877\n"
     ]
    }
   ],
   "source": [
    "for g in parameter_grid:\n",
    "    model.set_params(**g)\n",
    "    model.fit(drivers_feature)\n",
    "    \n",
    "    ss = metrics.silhouette_score(drivers_feature,model.labels_)\n",
    "    print(\"Parameter: \", g, 'Score: ', ss)\n",
    "    if ss > best_score:\n",
    "        best_score = ss\n",
    "        best_param = g"
   ]
  },
  {
   "cell_type": "markdown",
   "metadata": {},
   "source": [
    "It seems that when cluster number = 2, it has the best silhouette score."
   ]
  },
  {
   "cell_type": "code",
   "execution_count": 24,
   "metadata": {},
   "outputs": [
    {
     "data": {
      "text/plain": [
       "{'n_clusters': 2}"
      ]
     },
     "execution_count": 24,
     "metadata": {},
     "output_type": "execute_result"
    }
   ],
   "source": [
    "best_param"
   ]
  },
  {
   "cell_type": "code",
   "execution_count": 25,
   "metadata": {},
   "outputs": [
    {
     "data": {
      "text/plain": [
       "<matplotlib.collections.PathCollection at 0x27521561f28>"
      ]
     },
     "execution_count": 25,
     "metadata": {},
     "output_type": "execute_result"
    },
    {
     "data": {
      "image/png": "[encoded data removed]",
      "text/plain": [
       "<Figure size 720x576 with 1 Axes>"
      ]
     },
     "metadata": {},
     "output_type": "display_data"
    }
   ],
   "source": [
    "fig,ax = plt.subplots(figsize=(10,8))\n",
    "plt.scatter(drivers_feature['Distance_Feature'],drivers_feature['Speeding_Feature'])"
   ]
  },
  {
   "cell_type": "markdown",
   "metadata": {},
   "source": [
    "It is clearn that there seems to be two distince clusters"
   ]
  },
  {
   "cell_type": "markdown",
   "metadata": {},
   "source": [
    "## Hyper parameter tuning for DBScan"
   ]
  },
  {
   "cell_type": "code",
   "execution_count": 33,
   "metadata": {},
   "outputs": [
    {
     "data": {
      "text/plain": [
       "[{'eps': 0.9, 'min_samples': 5},\n",
       " {'eps': 0.9, 'min_samples': 7},\n",
       " {'eps': 0.9, 'min_samples': 10},\n",
       " {'eps': 0.9, 'min_samples': 12},\n",
       " {'eps': 1.0, 'min_samples': 5},\n",
       " {'eps': 1.0, 'min_samples': 7},\n",
       " {'eps': 1.0, 'min_samples': 10},\n",
       " {'eps': 1.0, 'min_samples': 12},\n",
       " {'eps': 5.0, 'min_samples': 5},\n",
       " {'eps': 5.0, 'min_samples': 7},\n",
       " {'eps': 5.0, 'min_samples': 10},\n",
       " {'eps': 5.0, 'min_samples': 12},\n",
       " {'eps': 10.0, 'min_samples': 5},\n",
       " {'eps': 10.0, 'min_samples': 7},\n",
       " {'eps': 10.0, 'min_samples': 10},\n",
       " {'eps': 10.0, 'min_samples': 12},\n",
       " {'eps': 12, 'min_samples': 5},\n",
       " {'eps': 12, 'min_samples': 7},\n",
       " {'eps': 12, 'min_samples': 10},\n",
       " {'eps': 12, 'min_samples': 12},\n",
       " {'eps': 14, 'min_samples': 5},\n",
       " {'eps': 14, 'min_samples': 7},\n",
       " {'eps': 14, 'min_samples': 10},\n",
       " {'eps': 14, 'min_samples': 12},\n",
       " {'eps': 20, 'min_samples': 5},\n",
       " {'eps': 20, 'min_samples': 7},\n",
       " {'eps': 20, 'min_samples': 10},\n",
       " {'eps': 20, 'min_samples': 12}]"
      ]
     },
     "execution_count": 33,
     "metadata": {},
     "output_type": "execute_result"
    }
   ],
   "source": [
    "parameters = {'eps': [0.9,1.0,5.0,10.0,12,14,20],\n",
    "             'min_samples':[5,7,10,12]}\n",
    "\n",
    "parameter_grid = ParameterGrid(parameters)\n",
    "list(parameter_grid)"
   ]
  },
  {
   "cell_type": "code",
   "execution_count": 34,
   "metadata": {},
   "outputs": [],
   "source": [
    "model = DBSCAN()\n",
    "best_score = -1"
   ]
  },
  {
   "cell_type": "code",
   "execution_count": 35,
   "metadata": {},
   "outputs": [
    {
     "name": "stdout",
     "output_type": "stream",
     "text": [
      "Parameter:  {'eps': 0.9, 'min_samples': 5} Score:  -0.6057173612292268\n",
      "Parameter:  {'eps': 0.9, 'min_samples': 7} Score:  -0.4265046999507063\n",
      "Parameter:  {'eps': 0.9, 'min_samples': 10} Score:  -0.39254168253371013\n",
      "Parameter:  {'eps': 0.9, 'min_samples': 12} Score:  -0.4286838741223884\n",
      "Parameter:  {'eps': 1.0, 'min_samples': 5} Score:  -0.6155746493060738\n",
      "Parameter:  {'eps': 1.0, 'min_samples': 7} Score:  -0.41637001640330673\n",
      "Parameter:  {'eps': 1.0, 'min_samples': 10} Score:  -0.3837814631696031\n",
      "Parameter:  {'eps': 1.0, 'min_samples': 12} Score:  -0.38648235283744914\n",
      "Parameter:  {'eps': 5.0, 'min_samples': 5} Score:  0.31011275260225\n",
      "Parameter:  {'eps': 5.0, 'min_samples': 7} Score:  0.7820011223700856\n",
      "Parameter:  {'eps': 5.0, 'min_samples': 10} Score:  0.7974222681120255\n",
      "Parameter:  {'eps': 5.0, 'min_samples': 12} Score:  0.7914367881923341\n",
      "Parameter:  {'eps': 10.0, 'min_samples': 5} Score:  0.7598056658175874\n",
      "Parameter:  {'eps': 10.0, 'min_samples': 7} Score:  0.8157570071704705\n",
      "Parameter:  {'eps': 10.0, 'min_samples': 10} Score:  0.8107405850782263\n",
      "Parameter:  {'eps': 10.0, 'min_samples': 12} Score:  0.7826641175724478\n",
      "Parameter:  {'eps': 12, 'min_samples': 5} Score:  0.8082887021398691\n",
      "Parameter:  {'eps': 12, 'min_samples': 7} Score:  0.8006933163754029\n",
      "Parameter:  {'eps': 12, 'min_samples': 10} Score:  0.8177778536465214\n",
      "Parameter:  {'eps': 12, 'min_samples': 12} Score:  0.8155661587264617\n",
      "Parameter:  {'eps': 14, 'min_samples': 5} Score:  0.8111072866552332\n",
      "Parameter:  {'eps': 14, 'min_samples': 7} Score:  0.8121719747215577\n",
      "Parameter:  {'eps': 14, 'min_samples': 10} Score:  0.8029471072047811\n",
      "Parameter:  {'eps': 14, 'min_samples': 12} Score:  0.8178938395610874\n",
      "Parameter:  {'eps': 20, 'min_samples': 5} Score:  0.8490223286225532\n",
      "Parameter:  {'eps': 20, 'min_samples': 7} Score:  0.8490223286225532\n",
      "Parameter:  {'eps': 20, 'min_samples': 10} Score:  0.8192119040131286\n",
      "Parameter:  {'eps': 20, 'min_samples': 12} Score:  0.8156567891999053\n"
     ]
    }
   ],
   "source": [
    "for g in parameter_grid:\n",
    "    model.set_params(**g)\n",
    "    model.fit(drivers_feature)\n",
    "    \n",
    "    ss = metrics.silhouette_score(drivers_feature,model.labels_)\n",
    "    print(\"Parameter: \", g, 'Score: ', ss)\n",
    "    if ss > best_score:\n",
    "        best_score = ss\n",
    "        best_param = g"
   ]
  },
  {
   "cell_type": "code",
   "execution_count": 36,
   "metadata": {},
   "outputs": [
    {
     "data": {
      "text/plain": [
       "{'eps': 20, 'min_samples': 5}"
      ]
     },
     "execution_count": 36,
     "metadata": {},
     "output_type": "execute_result"
    }
   ],
   "source": [
    "best_param"
   ]
  },
  {
   "cell_type": "code",
   "execution_count": 37,
   "metadata": {},
   "outputs": [
    {
     "data": {
      "text/plain": [
       "DBSCAN(algorithm='auto', eps=20, leaf_size=30, metric='euclidean',\n",
       "    metric_params=None, min_samples=5, n_jobs=1, p=None)"
      ]
     },
     "execution_count": 37,
     "metadata": {},
     "output_type": "execute_result"
    }
   ],
   "source": [
    "model.set_params(**best_param)\n",
    "model.fit(drivers_feature)"
   ]
  },
  {
   "cell_type": "code",
   "execution_count": 38,
   "metadata": {},
   "outputs": [
    {
     "data": {
      "text/plain": [
       "array([0, 0, 0, ..., 1, 1, 1], dtype=int64)"
      ]
     },
     "execution_count": 38,
     "metadata": {},
     "output_type": "execute_result"
    }
   ],
   "source": [
    "model.labels_"
   ]
  },
  {
   "cell_type": "code",
   "execution_count": 43,
   "metadata": {},
   "outputs": [],
   "source": [
    "n_clusters = len(set(model.labels_)) - (1 if -1 in model.labels_ else 0)"
   ]
  },
  {
   "cell_type": "code",
   "execution_count": 44,
   "metadata": {},
   "outputs": [
    {
     "data": {
      "text/plain": [
       "2"
      ]
     },
     "execution_count": 44,
     "metadata": {},
     "output_type": "execute_result"
    }
   ],
   "source": [
    "n_clusters"
   ]
  },
  {
   "cell_type": "markdown",
   "metadata": {},
   "source": [
    "Our hyper parameter tuning pointed out that 2 is the best number of clusters in out dataset"
   ]
  },
  {
   "cell_type": "code",
   "execution_count": 47,
   "metadata": {},
   "outputs": [
    {
     "data": {
      "text/plain": [
       "0"
      ]
     },
     "execution_count": 47,
     "metadata": {},
     "output_type": "execute_result"
    }
   ],
   "source": [
    "n_noise = list(model.labels_).count(-1)\n",
    "n_noise"
   ]
  },
  {
   "cell_type": "markdown",
   "metadata": {},
   "source": [
    "As we can see, selecting these parameter values did not give any noise"
   ]
  }
 ],
 "metadata": {
  "kernelspec": {
   "display_name": "Python 3",
   "language": "python",
   "name": "python3"
  },
  "language_info": {
   "codemirror_mode": {
    "name": "ipython",
    "version": 3
   },
   "file_extension": ".py",
   "mimetype": "text/x-python",
   "name": "python",
   "nbconvert_exporter": "python",
   "pygments_lexer": "ipython3",
   "version": "3.6.5"
  }
 },
 "nbformat": 4,
 "nbformat_minor": 2
}
