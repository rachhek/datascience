{
 "cells": [
  {
   "cell_type": "markdown",
   "metadata": {},
   "source": [
    "# Clustering\n",
    "Clustering is a unsupervised learning method.The model has to be set up right to learn structure in the data. Here, we do not have the output data and only have the input data x. Model tries to discover the patterns by themselves. We do not have the labels to train the data"
   ]
  },
  {
   "cell_type": "markdown",
   "metadata": {},
   "source": [
    "## Unsupervised learning use cases\n",
    "- to make unlabelled data self-sufficient - identify photos of specific person\n",
    "- latent factor analysis - find common drivers of 200 stocks\n",
    "- clustering - find relevant document in a corpus\n",
    "- anomaly detection - flag fradulent credit card transactions\n",
    "- quantization - compress true color\n",
    "- pre training for supervised learning problems(classification and regression)"
   ]
  },
  {
   "cell_type": "markdown",
   "metadata": {},
   "source": [
    "Unsupervised ML Algorithms\n",
    "- Clustering\n",
    "    - eg k-means\n",
    "- Autoencoder\n",
    "    - identify latent factors that drive data"
   ]
  },
  {
   "cell_type": "markdown",
   "metadata": {},
   "source": [
    "## Clustering\n",
    "Features examples for \n",
    "- product : id, timestamp,amount\n",
    "- person : age, height, weight\n",
    "- document : length, word frequency\n",
    "\n",
    "Every data point can be represent as a point in a n-dimensional hypercube. We can use distances to find the distances between different data points\n",
    "\n",
    "Entities in the same group should be similar and entities in different group should be different"
   ]
  },
  {
   "cell_type": "markdown",
   "metadata": {},
   "source": [
    "## K-means clustering\n",
    "- tries to maximize intra cluster similarity and minimize iter-cluster similarity"
   ]
  },
  {
   "cell_type": "markdown",
   "metadata": {},
   "source": [
    "## Evaluating Clustering Models\n",
    "- homegeneity score\n",
    "- completeness score\n",
    "- v-measure score\n",
    "- adjusted rand index\n",
    "- adjusted mutual info\n",
    "- silhouette score\n",
    "\n",
    "Only silhoutte score does not require labelled data\n",
    "\n",
    "Homogeneity : each cluster should contain members of the same class\n",
    "Completeness : all members of a class should like in the same clusters\n",
    "\n",
    "Homogeneity and completeness are inversely related. Each lies between 0 and 1. It is similar to precision and recall (in classification). \n",
    "\n",
    "v-measure : harmonic mean of homogeneity and completeness. Favours equal weight of homogenity and completeness\n",
    "\n",
    "adjusted - rand-index : values lies between 0 and 1. value of 1 means labels and calculated clusters are perfect.\n",
    "\n",
    "adjusted-mutual-info : measures mutual info in overlap between cluster assignments. also needs labeled data. Value of 1 means best clustering\n",
    "\n",
    "Silhouette score : advantage of this score is that it does not require labeled data. It measure how similar an object is to objects in its own cluster and how different it is from objects in other clusters. Overall silhoutte score measure silhoutte score for each sample\n"
   ]
  },
  {
   "cell_type": "markdown",
   "metadata": {},
   "source": [
    "### Types of Clustering\n",
    "- centroid based\n",
    "- density based\n",
    "- heirarchical based\n",
    "- distribution based\n"
   ]
  },
  {
   "cell_type": "code",
   "execution_count": null,
   "metadata": {},
   "outputs": [],
   "source": []
  }
 ],
 "metadata": {
  "kernelspec": {
   "display_name": "Python 3",
   "language": "python",
   "name": "python3"
  },
  "language_info": {
   "codemirror_mode": {
    "name": "ipython",
    "version": 3
   },
   "file_extension": ".py",
   "mimetype": "text/x-python",
   "name": "python",
   "nbconvert_exporter": "python",
   "pygments_lexer": "ipython3",
   "version": "3.6.5"
  }
 },
 "nbformat": 4,
 "nbformat_minor": 2
}
