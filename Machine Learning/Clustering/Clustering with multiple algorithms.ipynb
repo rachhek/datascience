{
 "cells": [
  {
   "cell_type": "markdown",
   "metadata": {},
   "source": [
    "## Clustering with multiple algorithms\n",
    "- centroid based\n",
    "    - k-meaans clustering\n",
    "- heirarchical based\n",
    "    - connectivity based clustering. clustering based on the idea that points are connected to points close by rather than further away. example : agglomerative and birch clustering\n",
    "- distribution based\n",
    "    - objects of a cluster are the ones which belong most likely to the same distribution. \n",
    "    - tend to be complex and prone to overfitting.\n",
    "    - example : gaussian mixture models\n",
    "- densite based cluster\n",
    "    - create clusters from areas which have a higher density of data points\n",
    "    - example DBSCAN and mean-shift clustering\n",
    "    "
   ]
  },
  {
   "cell_type": "code",
   "execution_count": 1,
   "metadata": {},
   "outputs": [],
   "source": [
    "import pandas as pd\n",
    "import numpy as np\n",
    "import matplotlib.pyplot as plt\n",
    "\n",
    "from sklearn import metrics\n",
    "from sklearn.cluster import KMeans\n",
    "from sklearn.cluster import AgglomerativeClustering\n",
    "from sklearn.cluster import DBSCAN\n",
    "from sklearn.cluster import MeanShift\n",
    "from sklearn.cluster import Birch\n",
    "from sklearn.cluster import AffinityPropagation\n",
    "from sklearn.cluster import MiniBatchKMeans"
   ]
  },
  {
   "cell_type": "code",
   "execution_count": 2,
   "metadata": {},
   "outputs": [
    {
     "data": {
      "text/html": [
       "<div>\n",
       "<style scoped>\n",
       "    .dataframe tbody tr th:only-of-type {\n",
       "        vertical-align: middle;\n",
       "    }\n",
       "\n",
       "    .dataframe tbody tr th {\n",
       "        vertical-align: top;\n",
       "    }\n",
       "\n",
       "    .dataframe thead th {\n",
       "        text-align: right;\n",
       "    }\n",
       "</style>\n",
       "<table border=\"1\" class=\"dataframe\">\n",
       "  <thead>\n",
       "    <tr style=\"text-align: right;\">\n",
       "      <th></th>\n",
       "      <th>sepal-length</th>\n",
       "      <th>sepal-width</th>\n",
       "      <th>petal-length</th>\n",
       "      <th>petal-width</th>\n",
       "      <th>class</th>\n",
       "    </tr>\n",
       "  </thead>\n",
       "  <tbody>\n",
       "    <tr>\n",
       "      <th>0</th>\n",
       "      <td>5.1</td>\n",
       "      <td>3.5</td>\n",
       "      <td>1.4</td>\n",
       "      <td>0.2</td>\n",
       "      <td>Iris-setosa</td>\n",
       "    </tr>\n",
       "    <tr>\n",
       "      <th>1</th>\n",
       "      <td>4.9</td>\n",
       "      <td>3.0</td>\n",
       "      <td>1.4</td>\n",
       "      <td>0.2</td>\n",
       "      <td>Iris-setosa</td>\n",
       "    </tr>\n",
       "    <tr>\n",
       "      <th>2</th>\n",
       "      <td>4.7</td>\n",
       "      <td>3.2</td>\n",
       "      <td>1.3</td>\n",
       "      <td>0.2</td>\n",
       "      <td>Iris-setosa</td>\n",
       "    </tr>\n",
       "    <tr>\n",
       "      <th>3</th>\n",
       "      <td>4.6</td>\n",
       "      <td>3.1</td>\n",
       "      <td>1.5</td>\n",
       "      <td>0.2</td>\n",
       "      <td>Iris-setosa</td>\n",
       "    </tr>\n",
       "    <tr>\n",
       "      <th>4</th>\n",
       "      <td>5.0</td>\n",
       "      <td>3.6</td>\n",
       "      <td>1.4</td>\n",
       "      <td>0.2</td>\n",
       "      <td>Iris-setosa</td>\n",
       "    </tr>\n",
       "  </tbody>\n",
       "</table>\n",
       "</div>"
      ],
      "text/plain": [
       "   sepal-length  sepal-width  petal-length  petal-width        class\n",
       "0           5.1          3.5           1.4          0.2  Iris-setosa\n",
       "1           4.9          3.0           1.4          0.2  Iris-setosa\n",
       "2           4.7          3.2           1.3          0.2  Iris-setosa\n",
       "3           4.6          3.1           1.5          0.2  Iris-setosa\n",
       "4           5.0          3.6           1.4          0.2  Iris-setosa"
      ]
     },
     "execution_count": 2,
     "metadata": {},
     "output_type": "execute_result"
    }
   ],
   "source": [
    "iris_df = pd.read_csv(\"./datasets/iris.csv\",skiprows=1,names=['sepal-length',\n",
    "                                                             'sepal-width',\n",
    "                                                             'petal-length',\n",
    "                                                             'petal-width',\n",
    "                                                             'class'])\n",
    "iris_df.head()"
   ]
  },
  {
   "cell_type": "code",
   "execution_count": 3,
   "metadata": {},
   "outputs": [
    {
     "data": {
      "text/html": [
       "<div>\n",
       "<style scoped>\n",
       "    .dataframe tbody tr th:only-of-type {\n",
       "        vertical-align: middle;\n",
       "    }\n",
       "\n",
       "    .dataframe tbody tr th {\n",
       "        vertical-align: top;\n",
       "    }\n",
       "\n",
       "    .dataframe thead th {\n",
       "        text-align: right;\n",
       "    }\n",
       "</style>\n",
       "<table border=\"1\" class=\"dataframe\">\n",
       "  <thead>\n",
       "    <tr style=\"text-align: right;\">\n",
       "      <th></th>\n",
       "      <th>sepal-length</th>\n",
       "      <th>sepal-width</th>\n",
       "      <th>petal-length</th>\n",
       "      <th>petal-width</th>\n",
       "      <th>class</th>\n",
       "    </tr>\n",
       "  </thead>\n",
       "  <tbody>\n",
       "    <tr>\n",
       "      <th>0</th>\n",
       "      <td>5.1</td>\n",
       "      <td>3.5</td>\n",
       "      <td>1.4</td>\n",
       "      <td>0.2</td>\n",
       "      <td>0</td>\n",
       "    </tr>\n",
       "    <tr>\n",
       "      <th>1</th>\n",
       "      <td>4.9</td>\n",
       "      <td>3.0</td>\n",
       "      <td>1.4</td>\n",
       "      <td>0.2</td>\n",
       "      <td>0</td>\n",
       "    </tr>\n",
       "    <tr>\n",
       "      <th>2</th>\n",
       "      <td>4.7</td>\n",
       "      <td>3.2</td>\n",
       "      <td>1.3</td>\n",
       "      <td>0.2</td>\n",
       "      <td>0</td>\n",
       "    </tr>\n",
       "    <tr>\n",
       "      <th>3</th>\n",
       "      <td>4.6</td>\n",
       "      <td>3.1</td>\n",
       "      <td>1.5</td>\n",
       "      <td>0.2</td>\n",
       "      <td>0</td>\n",
       "    </tr>\n",
       "    <tr>\n",
       "      <th>4</th>\n",
       "      <td>5.0</td>\n",
       "      <td>3.6</td>\n",
       "      <td>1.4</td>\n",
       "      <td>0.2</td>\n",
       "      <td>0</td>\n",
       "    </tr>\n",
       "  </tbody>\n",
       "</table>\n",
       "</div>"
      ],
      "text/plain": [
       "   sepal-length  sepal-width  petal-length  petal-width  class\n",
       "0           5.1          3.5           1.4          0.2      0\n",
       "1           4.9          3.0           1.4          0.2      0\n",
       "2           4.7          3.2           1.3          0.2      0\n",
       "3           4.6          3.1           1.5          0.2      0\n",
       "4           5.0          3.6           1.4          0.2      0"
      ]
     },
     "execution_count": 3,
     "metadata": {},
     "output_type": "execute_result"
    }
   ],
   "source": [
    "from sklearn import preprocessing\n",
    "label_encoding = preprocessing.LabelEncoder()\n",
    "iris_df['class'] = label_encoding.fit_transform(iris_df['class'].astype(str))\n",
    "iris_df.head()"
   ]
  },
  {
   "cell_type": "code",
   "execution_count": 4,
   "metadata": {},
   "outputs": [],
   "source": [
    "iris_features = iris_df.drop('class',axis=1)\n",
    "iris_labels = iris_df['class']"
   ]
  },
  {
   "cell_type": "code",
   "execution_count": 5,
   "metadata": {},
   "outputs": [],
   "source": [
    "def build_model(clustering_fn,data,labels):\n",
    "    model = clustering_fn(data)\n",
    "    print(\"Homegeneity score: \", metrics.homogeneity_score(labels,model.labels_))\n",
    "    print(\"Completeness score: \", metrics.completeness_score(labels,model.labels_))\n",
    "    print(\"v_measure score: \", metrics.v_measure_score(labels,model.labels_))\n",
    "    print(\"adjusted rand score: \", metrics.adjusted_rand_score(labels,model.labels_))\n",
    "    print(\"adjusted mutual info score: \", metrics.adjusted_mutual_info_score(labels,model.labels_))\n",
    "    print(\"silhouette score: \", metrics.silhouette_score(data,model.labels_))"
   ]
  },
  {
   "cell_type": "markdown",
   "metadata": {},
   "source": [
    "## KMeans Algorithm"
   ]
  },
  {
   "cell_type": "code",
   "execution_count": 6,
   "metadata": {},
   "outputs": [],
   "source": [
    "def kmeans(data,n_clusters=3,max_iter=1000):\n",
    "    model = KMeans(n_clusters=n_clusters,max_iter=max_iter).fit(data)\n",
    "    return model"
   ]
  },
  {
   "cell_type": "code",
   "execution_count": 7,
   "metadata": {},
   "outputs": [
    {
     "name": "stdout",
     "output_type": "stream",
     "text": [
      "Homegeneity score:  0.7514854021988338\n",
      "Completeness score:  0.7649861514489815\n",
      "v_measure score:  0.7581756800057784\n",
      "adjusted rand score:  0.7302382722834697\n",
      "adjusted mutual info score:  0.7483723933229484\n",
      "silhouette score:  0.5525919445499757\n"
     ]
    }
   ],
   "source": [
    "build_model(kmeans,iris_features,iris_labels)"
   ]
  },
  {
   "cell_type": "markdown",
   "metadata": {},
   "source": [
    "## agglomerative "
   ]
  },
  {
   "cell_type": "code",
   "execution_count": 8,
   "metadata": {},
   "outputs": [],
   "source": [
    "def aggloremative_fn(data,n_clusters=3):\n",
    "    model = AgglomerativeClustering(n_clusters=n_clusters).fit(data)\n",
    "    return model"
   ]
  },
  {
   "cell_type": "code",
   "execution_count": 12,
   "metadata": {},
   "outputs": [
    {
     "name": "stdout",
     "output_type": "stream",
     "text": [
      "Homegeneity score:  0.7608008469718723\n",
      "Completeness score:  0.7795958005591144\n",
      "v_measure score:  0.7700836616487869\n",
      "adjusted rand score:  0.7311985567707745\n",
      "adjusted mutual info score:  0.7578034225092115\n",
      "silhouette score:  0.5540972908150553\n"
     ]
    }
   ],
   "source": [
    "build_model(aggloremative_fn,iris_features,iris_labels)"
   ]
  },
  {
   "cell_type": "markdown",
   "metadata": {},
   "source": [
    "## DBSCAN Algorithm\n",
    "Suitable for large dataset that needs to separated to moderate number of clusters. It makes clusters based on the density of the points. It is a density based clustering method.  \n",
    "\n",
    "paramters:\n",
    "- eps : minimum distance specification to consider to points to be neighbors. Points closer than this distance are neighbors\n",
    "- min_samples : minimum number of points to form a dense region\n",
    "\n",
    "lower values are preferred for min_samples"
   ]
  },
  {
   "cell_type": "code",
   "execution_count": 13,
   "metadata": {},
   "outputs": [],
   "source": [
    "def dbscan_fn(data,eps=0.45,min_samples=4):\n",
    "    model = DBSCAN(eps=eps,min_samples=min_samples).fit(data)\n",
    "    return model"
   ]
  },
  {
   "cell_type": "code",
   "execution_count": 15,
   "metadata": {},
   "outputs": [
    {
     "name": "stdout",
     "output_type": "stream",
     "text": [
      "Homegeneity score:  0.5773205947971476\n",
      "Completeness score:  0.6093983666695363\n",
      "v_measure score:  0.5929259393972258\n",
      "adjusted rand score:  0.5084974632998323\n",
      "adjusted mutual info score:  0.5686010878114507\n",
      "silhouette score:  0.3720825002964342\n"
     ]
    }
   ],
   "source": [
    "build_model(dbscan_fn,iris_features,iris_labels)"
   ]
  },
  {
   "cell_type": "markdown",
   "metadata": {},
   "source": [
    "## Mean shift clustering\n",
    "- take one point from a set of points\n",
    "- defines a 'neighborhood' for all single points\n",
    "- calculate a function(kernel) for each point based on all points in its neighborhood\n",
    "- flat-kernel : sum of all points in a neighborhood\n",
    "- gaussian(RBF) kernel : probability weighted sum of points\n",
    "    - defined my mean and standard deviation\n",
    "    - mean = center points\n",
    "    - standard deviation = bandwidth\n",
    "- after applying the kernel to every points, assume all points are color coded by order of their magnitute\n",
    "- now shift all the points towards the points with higher magnitutde\n",
    "- algorithm stops when the points stop moving\n",
    "- parameters : \n",
    "    - bandwidth: lower value means the kernel is tall and skinny, smaller neighborhood.\n",
    "    - bandwidth : higher value means the distribution is flat, bigger neighborhood\n",
    "- There is no need to specify neighborhood upfront\n",
    "- this kernel can handle complex non linear data\n",
    "- hyperparameter tuning is very crucial\n",
    "- this is computationally less intensive than kmeans\n"
   ]
  },
  {
   "cell_type": "code",
   "execution_count": 17,
   "metadata": {},
   "outputs": [],
   "source": [
    "def mean_shift_fn(data,bandwidth=0.85):\n",
    "    model = MeanShift(bandwidth=bandwidth).fit(data)\n",
    "    return model"
   ]
  },
  {
   "cell_type": "code",
   "execution_count": 18,
   "metadata": {},
   "outputs": [
    {
     "name": "stdout",
     "output_type": "stream",
     "text": [
      "Homegeneity score:  0.7603645798041669\n",
      "Completeness score:  0.7717917344958113\n",
      "v_measure score:  0.7660355440487252\n",
      "adjusted rand score:  0.7436826319432357\n",
      "adjusted mutual info score:  0.7573632678282255\n",
      "silhouette score:  0.5509296349732906\n"
     ]
    }
   ],
   "source": [
    "build_model(mean_shift_fn,iris_features,iris_labels)"
   ]
  },
  {
   "cell_type": "markdown",
   "metadata": {},
   "source": [
    "## Birch Clustering\n",
    "suitable when both dataset and clusters is large\n",
    "- it can detect and removes outliers\n",
    "- it incrementally processes data, suitable for incoming data in a stream\n",
    "- it is a hierarchical clustering\n",
    "- builds a tree representation of dataset.\n",
    "- effective at handling noise and outliers\n",
    "- efficient memory and time efficient\n",
    "- it can incrementally cluster incoming data\n",
    "- online-learning algorithm"
   ]
  },
  {
   "cell_type": "code",
   "execution_count": 19,
   "metadata": {},
   "outputs": [],
   "source": [
    "def birch_fn(data,n_clusters=3):\n",
    "    model = Birch(n_clusters = n_clusters).fit(data)\n",
    "    return model"
   ]
  },
  {
   "cell_type": "code",
   "execution_count": 20,
   "metadata": {},
   "outputs": [
    {
     "name": "stdout",
     "output_type": "stream",
     "text": [
      "Homegeneity score:  0.6747055693979638\n",
      "Completeness score:  0.7383596460504097\n",
      "v_measure score:  0.7050989012575005\n",
      "adjusted rand score:  0.6096252514698314\n",
      "adjusted mutual info score:  0.6706105390642346\n",
      "silhouette score:  0.5016992571068448\n"
     ]
    }
   ],
   "source": [
    "build_model(birch_fn,iris_features,iris_labels)"
   ]
  },
  {
   "cell_type": "markdown",
   "metadata": {},
   "source": [
    "## Affinity propagation clustering\n",
    "- works well with small datasets but needs to clustered into many clusteres\n",
    "- makes not assumption about internal data of points\n",
    "- accepts graph distances(nearest neighbor graphs)\n",
    "- attempts to find exemplars(datapoints that are the most representative of other points)\n",
    "- no need to specify clusters up front"
   ]
  },
  {
   "cell_type": "code",
   "execution_count": 22,
   "metadata": {},
   "outputs": [],
   "source": [
    "#damping : like a learning rate for the algorithm. extent to which the current value is maintained\n",
    "# relative to the incoming values\n",
    "def affinity_propagation(data,damping=0.6,max_iter=1000):\n",
    "    model = AffinityPropagation(damping=damping,max_iter=max_iter).fit(data)\n",
    "    return model"
   ]
  },
  {
   "cell_type": "code",
   "execution_count": 23,
   "metadata": {},
   "outputs": [
    {
     "name": "stdout",
     "output_type": "stream",
     "text": [
      "Homegeneity score:  0.8512533506223854\n",
      "Completeness score:  0.49170090756246776\n",
      "v_measure score:  0.6233451996084364\n",
      "adjusted rand score:  0.4373692389986675\n",
      "adjusted mutual info score:  0.4802182847375622\n",
      "silhouette score:  0.348833613127065\n"
     ]
    }
   ],
   "source": [
    "build_model(affinity_propagation,iris_features,iris_labels)"
   ]
  },
  {
   "cell_type": "markdown",
   "metadata": {},
   "source": [
    "## Mini batch k-means clusters\n",
    "- good when we want moderate amount of clusters in a very large dataset\n",
    "- centroid based algorithms\n",
    "- perform k-means on a randomly sampled subsets\n",
    "- iteratively perform on batches\n",
    "- faster than full k means"
   ]
  },
  {
   "cell_type": "code",
   "execution_count": 24,
   "metadata": {},
   "outputs": [],
   "source": [
    "def mini_batch_kmeans_fn(data,n_clusters=3,max_iter=1000):\n",
    "    model = MiniBatchKMeans(n_clusters=n_clusters,max_iter=max_iter,batch_size=20).fit(data)\n",
    "    return model"
   ]
  },
  {
   "cell_type": "code",
   "execution_count": 25,
   "metadata": {},
   "outputs": [
    {
     "name": "stdout",
     "output_type": "stream",
     "text": [
      "Homegeneity score:  0.7364192881252849\n",
      "Completeness score:  0.7474865805095324\n",
      "v_measure score:  0.7419116631817836\n",
      "adjusted rand score:  0.7163421126838475\n",
      "adjusted mutual info score:  0.7331180735280008\n",
      "silhouette score:  0.5509643746707443\n"
     ]
    }
   ],
   "source": [
    "build_model(mini_batch_kmeans_fn,iris_features,iris_labels)"
   ]
  }
 ],
 "metadata": {
  "kernelspec": {
   "display_name": "Python 3",
   "language": "python",
   "name": "python3"
  },
  "language_info": {
   "codemirror_mode": {
    "name": "ipython",
    "version": 3
   },
   "file_extension": ".py",
   "mimetype": "text/x-python",
   "name": "python",
   "nbconvert_exporter": "python",
   "pygments_lexer": "ipython3",
   "version": "3.6.5"
  }
 },
 "nbformat": 4,
 "nbformat_minor": 2
}
