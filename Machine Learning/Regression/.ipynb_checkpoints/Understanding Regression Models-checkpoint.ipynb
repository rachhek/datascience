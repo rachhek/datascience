{
 "cells": [
  {
   "cell_type": "markdown",
   "metadata": {},
   "source": [
    "## Regression models"
   ]
  },
  {
   "cell_type": "markdown",
   "metadata": {},
   "source": [
    "The idea is to fit a curve in a multidimensional data. If the curve fits all the points very closely, it can be overfitted. Finding the best straigth line through our data is called Linear Regression. The equation of straight line is y= mx + c. Objective of linear regression is to find the values of m and c that best fits the data."
   ]
  },
  {
   "cell_type": "markdown",
   "metadata": {},
   "source": [
    "R-square is a measure of how well the linear regression fits the underlying data. It measures how well the variance of the underlying data is captured by our line. High R-square means the line has high quality fit to data. If the r-square value is low, it means the line fit has very low quality. It is a number between 0 and 1."
   ]
  },
  {
   "cell_type": "markdown",
   "metadata": {},
   "source": [
    "The loss function for regression model is Mean Square Error(MSE) or Least Square Error"
   ]
  },
  {
   "cell_type": "markdown",
   "metadata": {},
   "source": [
    "After, a line is fitted in a data, it can be used for prediction. The best fit line is found out out by finding the least square error of the line. The 'least square line' is the sum of the squares of the lengths of the 'error' is minimum. The 'error' is the length of projected point on the line"
   ]
  },
  {
   "cell_type": "markdown",
   "metadata": {},
   "source": [
    "## Risks in regressions"
   ]
  },
  {
   "cell_type": "markdown",
   "metadata": {},
   "source": [
    "If our data is in two dimensions, the simple risks can be mitigated by analyzing r-square and residuals.\n",
    "If our data is in multi dimension, risks are more complicated and require interpreting regression statistics"
   ]
  },
  {
   "cell_type": "markdown",
   "metadata": {},
   "source": [
    "Some of the risks involved in simple regression:\n",
    "- no cause-effect relationship between features \n",
    "    - low r-square, plot of x-y has no pattern\n",
    "- the relationship might be non-linear (exponential or polynomial) fit\n",
    "    - high r-square, residuals are not independent of each other\n",
    "- incomplete relationship: multiple cause might exist for the dependent variable, but we may be working with only a few. This can be seen my \n",
    "    - low r-square, residuals are not independent of x\n",
    "    \n",
    "Risk involved with multile regression:\n",
    "- multicollinearity: X variables contains the same information\n",
    "- regression model will perform poorly"
   ]
  },
  {
   "cell_type": "markdown",
   "metadata": {},
   "source": [
    "Prevention and cure for multicollinearity\n",
    "- take care of each X variable\n",
    "- remove variables that convey the same information\n",
    "- standardize the variables (subtract by mean and divide by standard dev)\n",
    "- do dimensionality reduction using pca etc"
   ]
  },
  {
   "cell_type": "markdown",
   "metadata": {},
   "source": [
    "### Evaluating a regression model\n",
    "A regression model can be evaulated by interpreting the r-square values  \n",
    "r-square : how well has the model captured the variance in the data? how well does the line fit the data?  \n",
    "<i>Adjusted r-square</i> should be used when evaluation multiple regression models"
   ]
  },
  {
   "cell_type": "markdown",
   "metadata": {},
   "source": [
    "### Regression with categorical data\n",
    "When dealing with categorical data, our regression line might not fit any of the categories properly, this is why we have to combine them into a single one. If the category is binary, we can have 'dummy' variables for 0 and 1, and if there are multiple categories(k) we need k-1 dummy variables. This knowledge is necessary to debugging multicollinearity"
   ]
  },
  {
   "cell_type": "code",
   "execution_count": null,
   "metadata": {},
   "outputs": [],
   "source": []
  }
 ],
 "metadata": {
  "kernelspec": {
   "display_name": "Python 3",
   "language": "python",
   "name": "python3"
  },
  "language_info": {
   "codemirror_mode": {
    "name": "ipython",
    "version": 3
   },
   "file_extension": ".py",
   "mimetype": "text/x-python",
   "name": "python",
   "nbconvert_exporter": "python",
   "pygments_lexer": "ipython3",
   "version": "3.6.5"
  }
 },
 "nbformat": 4,
 "nbformat_minor": 2
}
