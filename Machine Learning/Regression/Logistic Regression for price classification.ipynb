{
 "cells": [
  {
   "cell_type": "markdown",
   "metadata": {},
   "source": [
    "# Classification using Logistic regression\n",
    "Logisitic regression tries to fit an S-curve into the data\n",
    "It classifies an item based on if the probability is above or below a threshold  \n",
    "Here, we will try to build a classification to predict if the price of a house is above the median or below the median"
   ]
  },
  {
   "cell_type": "code",
   "execution_count": 1,
   "metadata": {},
   "outputs": [],
   "source": [
    "import pandas as pd\n",
    "import matplotlib.pyplot as py"
   ]
  },
  {
   "cell_type": "code",
   "execution_count": 2,
   "metadata": {},
   "outputs": [
    {
     "data": {
      "text/html": [
       "<div>\n",
       "<style scoped>\n",
       "    .dataframe tbody tr th:only-of-type {\n",
       "        vertical-align: middle;\n",
       "    }\n",
       "\n",
       "    .dataframe tbody tr th {\n",
       "        vertical-align: top;\n",
       "    }\n",
       "\n",
       "    .dataframe thead th {\n",
       "        text-align: right;\n",
       "    }\n",
       "</style>\n",
       "<table border=\"1\" class=\"dataframe\">\n",
       "  <thead>\n",
       "    <tr style=\"text-align: right;\">\n",
       "      <th></th>\n",
       "      <th>longitude</th>\n",
       "      <th>latitude</th>\n",
       "      <th>housing_median_age</th>\n",
       "      <th>total_rooms</th>\n",
       "      <th>total_bedrooms</th>\n",
       "      <th>population</th>\n",
       "      <th>households</th>\n",
       "      <th>median_income</th>\n",
       "      <th>median_house_value</th>\n",
       "      <th>ocean_proximity</th>\n",
       "    </tr>\n",
       "  </thead>\n",
       "  <tbody>\n",
       "    <tr>\n",
       "      <th>5448</th>\n",
       "      <td>-118.42</td>\n",
       "      <td>34.01</td>\n",
       "      <td>29.0</td>\n",
       "      <td>1996.0</td>\n",
       "      <td>489.0</td>\n",
       "      <td>960.0</td>\n",
       "      <td>449.0</td>\n",
       "      <td>3.6611</td>\n",
       "      <td>344200.0</td>\n",
       "      <td>&lt;1H OCEAN</td>\n",
       "    </tr>\n",
       "    <tr>\n",
       "      <th>16387</th>\n",
       "      <td>-121.27</td>\n",
       "      <td>38.02</td>\n",
       "      <td>32.0</td>\n",
       "      <td>342.0</td>\n",
       "      <td>58.0</td>\n",
       "      <td>138.0</td>\n",
       "      <td>52.0</td>\n",
       "      <td>2.9821</td>\n",
       "      <td>155000.0</td>\n",
       "      <td>INLAND</td>\n",
       "    </tr>\n",
       "    <tr>\n",
       "      <th>13482</th>\n",
       "      <td>-117.35</td>\n",
       "      <td>34.12</td>\n",
       "      <td>22.0</td>\n",
       "      <td>5640.0</td>\n",
       "      <td>889.0</td>\n",
       "      <td>3157.0</td>\n",
       "      <td>887.0</td>\n",
       "      <td>4.1581</td>\n",
       "      <td>126500.0</td>\n",
       "      <td>INLAND</td>\n",
       "    </tr>\n",
       "    <tr>\n",
       "      <th>20205</th>\n",
       "      <td>-119.20</td>\n",
       "      <td>34.28</td>\n",
       "      <td>22.0</td>\n",
       "      <td>2362.0</td>\n",
       "      <td>601.0</td>\n",
       "      <td>1127.0</td>\n",
       "      <td>499.0</td>\n",
       "      <td>3.4006</td>\n",
       "      <td>219400.0</td>\n",
       "      <td>NEAR OCEAN</td>\n",
       "    </tr>\n",
       "    <tr>\n",
       "      <th>1770</th>\n",
       "      <td>-122.35</td>\n",
       "      <td>37.95</td>\n",
       "      <td>45.0</td>\n",
       "      <td>2142.0</td>\n",
       "      <td>431.0</td>\n",
       "      <td>1318.0</td>\n",
       "      <td>431.0</td>\n",
       "      <td>3.0737</td>\n",
       "      <td>111600.0</td>\n",
       "      <td>NEAR BAY</td>\n",
       "    </tr>\n",
       "  </tbody>\n",
       "</table>\n",
       "</div>"
      ],
      "text/plain": [
       "       longitude  latitude  housing_median_age  total_rooms  total_bedrooms  \\\n",
       "5448     -118.42     34.01                29.0       1996.0           489.0   \n",
       "16387    -121.27     38.02                32.0        342.0            58.0   \n",
       "13482    -117.35     34.12                22.0       5640.0           889.0   \n",
       "20205    -119.20     34.28                22.0       2362.0           601.0   \n",
       "1770     -122.35     37.95                45.0       2142.0           431.0   \n",
       "\n",
       "       population  households  median_income  median_house_value  \\\n",
       "5448        960.0       449.0         3.6611            344200.0   \n",
       "16387       138.0        52.0         2.9821            155000.0   \n",
       "13482      3157.0       887.0         4.1581            126500.0   \n",
       "20205      1127.0       499.0         3.4006            219400.0   \n",
       "1770       1318.0       431.0         3.0737            111600.0   \n",
       "\n",
       "      ocean_proximity  \n",
       "5448        <1H OCEAN  \n",
       "16387          INLAND  \n",
       "13482          INLAND  \n",
       "20205      NEAR OCEAN  \n",
       "1770         NEAR BAY  "
      ]
     },
     "execution_count": 2,
     "metadata": {},
     "output_type": "execute_result"
    }
   ],
   "source": [
    "data = pd.read_csv(\"datasets/california_housing.csv\")\n",
    "data.sample(5)"
   ]
  },
  {
   "cell_type": "markdown",
   "metadata": {},
   "source": [
    "## Data cleanup"
   ]
  },
  {
   "cell_type": "code",
   "execution_count": 3,
   "metadata": {},
   "outputs": [
    {
     "data": {
      "text/plain": [
       "(20433, 10)"
      ]
     },
     "execution_count": 3,
     "metadata": {},
     "output_type": "execute_result"
    }
   ],
   "source": [
    "data = data.dropna()\n",
    "data.shape"
   ]
  },
  {
   "cell_type": "code",
   "execution_count": 6,
   "metadata": {},
   "outputs": [
    {
     "data": {
      "text/plain": [
       "longitude             958\n",
       "latitude              958\n",
       "housing_median_age    958\n",
       "total_rooms           958\n",
       "total_bedrooms        958\n",
       "population            958\n",
       "households            958\n",
       "median_income         958\n",
       "median_house_value    958\n",
       "ocean_proximity       958\n",
       "dtype: int64"
      ]
     },
     "execution_count": 6,
     "metadata": {},
     "output_type": "execute_result"
    }
   ],
   "source": [
    "data.loc[data[\"median_house_value\"]==500001].count()"
   ]
  },
  {
   "cell_type": "code",
   "execution_count": 7,
   "metadata": {},
   "outputs": [],
   "source": [
    "data = data.drop(data.loc[data[\"median_house_value\"]==500001].index)"
   ]
  },
  {
   "cell_type": "code",
   "execution_count": 8,
   "metadata": {},
   "outputs": [
    {
     "data": {
      "text/plain": [
       "(19475, 10)"
      ]
     },
     "execution_count": 8,
     "metadata": {},
     "output_type": "execute_result"
    }
   ],
   "source": [
    "data.shape"
   ]
  },
  {
   "cell_type": "code",
   "execution_count": 9,
   "metadata": {},
   "outputs": [
    {
     "data": {
      "text/plain": [
       "array(['NEAR BAY', '<1H OCEAN', 'INLAND', 'NEAR OCEAN', 'ISLAND'],\n",
       "      dtype=object)"
      ]
     },
     "execution_count": 9,
     "metadata": {},
     "output_type": "execute_result"
    }
   ],
   "source": [
    "data[\"ocean_proximity\"].unique()"
   ]
  },
  {
   "cell_type": "code",
   "execution_count": 10,
   "metadata": {},
   "outputs": [],
   "source": [
    "data = pd.get_dummies(data,columns=[\"ocean_proximity\"])"
   ]
  },
  {
   "cell_type": "code",
   "execution_count": 11,
   "metadata": {},
   "outputs": [
    {
     "data": {
      "text/html": [
       "<div>\n",
       "<style scoped>\n",
       "    .dataframe tbody tr th:only-of-type {\n",
       "        vertical-align: middle;\n",
       "    }\n",
       "\n",
       "    .dataframe tbody tr th {\n",
       "        vertical-align: top;\n",
       "    }\n",
       "\n",
       "    .dataframe thead th {\n",
       "        text-align: right;\n",
       "    }\n",
       "</style>\n",
       "<table border=\"1\" class=\"dataframe\">\n",
       "  <thead>\n",
       "    <tr style=\"text-align: right;\">\n",
       "      <th></th>\n",
       "      <th>longitude</th>\n",
       "      <th>latitude</th>\n",
       "      <th>housing_median_age</th>\n",
       "      <th>total_rooms</th>\n",
       "      <th>total_bedrooms</th>\n",
       "      <th>population</th>\n",
       "      <th>households</th>\n",
       "      <th>median_income</th>\n",
       "      <th>median_house_value</th>\n",
       "      <th>ocean_proximity_&lt;1H OCEAN</th>\n",
       "      <th>ocean_proximity_INLAND</th>\n",
       "      <th>ocean_proximity_ISLAND</th>\n",
       "      <th>ocean_proximity_NEAR BAY</th>\n",
       "      <th>ocean_proximity_NEAR OCEAN</th>\n",
       "    </tr>\n",
       "  </thead>\n",
       "  <tbody>\n",
       "    <tr>\n",
       "      <th>3101</th>\n",
       "      <td>-117.70</td>\n",
       "      <td>35.64</td>\n",
       "      <td>8.0</td>\n",
       "      <td>2683.0</td>\n",
       "      <td>416.0</td>\n",
       "      <td>1154.0</td>\n",
       "      <td>399.0</td>\n",
       "      <td>5.8625</td>\n",
       "      <td>109400.0</td>\n",
       "      <td>0</td>\n",
       "      <td>1</td>\n",
       "      <td>0</td>\n",
       "      <td>0</td>\n",
       "      <td>0</td>\n",
       "    </tr>\n",
       "    <tr>\n",
       "      <th>5326</th>\n",
       "      <td>-118.45</td>\n",
       "      <td>34.05</td>\n",
       "      <td>28.0</td>\n",
       "      <td>801.0</td>\n",
       "      <td>399.0</td>\n",
       "      <td>936.0</td>\n",
       "      <td>406.0</td>\n",
       "      <td>2.1875</td>\n",
       "      <td>181300.0</td>\n",
       "      <td>1</td>\n",
       "      <td>0</td>\n",
       "      <td>0</td>\n",
       "      <td>0</td>\n",
       "      <td>0</td>\n",
       "    </tr>\n",
       "    <tr>\n",
       "      <th>2883</th>\n",
       "      <td>-118.98</td>\n",
       "      <td>35.39</td>\n",
       "      <td>22.0</td>\n",
       "      <td>1812.0</td>\n",
       "      <td>457.0</td>\n",
       "      <td>1592.0</td>\n",
       "      <td>420.0</td>\n",
       "      <td>1.4146</td>\n",
       "      <td>49100.0</td>\n",
       "      <td>0</td>\n",
       "      <td>1</td>\n",
       "      <td>0</td>\n",
       "      <td>0</td>\n",
       "      <td>0</td>\n",
       "    </tr>\n",
       "    <tr>\n",
       "      <th>20045</th>\n",
       "      <td>-119.02</td>\n",
       "      <td>36.06</td>\n",
       "      <td>41.0</td>\n",
       "      <td>2279.0</td>\n",
       "      <td>538.0</td>\n",
       "      <td>1908.0</td>\n",
       "      <td>511.0</td>\n",
       "      <td>1.3952</td>\n",
       "      <td>43100.0</td>\n",
       "      <td>0</td>\n",
       "      <td>1</td>\n",
       "      <td>0</td>\n",
       "      <td>0</td>\n",
       "      <td>0</td>\n",
       "    </tr>\n",
       "    <tr>\n",
       "      <th>6092</th>\n",
       "      <td>-117.85</td>\n",
       "      <td>34.11</td>\n",
       "      <td>27.0</td>\n",
       "      <td>1748.0</td>\n",
       "      <td>403.0</td>\n",
       "      <td>985.0</td>\n",
       "      <td>416.0</td>\n",
       "      <td>3.1133</td>\n",
       "      <td>180600.0</td>\n",
       "      <td>0</td>\n",
       "      <td>1</td>\n",
       "      <td>0</td>\n",
       "      <td>0</td>\n",
       "      <td>0</td>\n",
       "    </tr>\n",
       "  </tbody>\n",
       "</table>\n",
       "</div>"
      ],
      "text/plain": [
       "       longitude  latitude  housing_median_age  total_rooms  total_bedrooms  \\\n",
       "3101     -117.70     35.64                 8.0       2683.0           416.0   \n",
       "5326     -118.45     34.05                28.0        801.0           399.0   \n",
       "2883     -118.98     35.39                22.0       1812.0           457.0   \n",
       "20045    -119.02     36.06                41.0       2279.0           538.0   \n",
       "6092     -117.85     34.11                27.0       1748.0           403.0   \n",
       "\n",
       "       population  households  median_income  median_house_value  \\\n",
       "3101       1154.0       399.0         5.8625            109400.0   \n",
       "5326        936.0       406.0         2.1875            181300.0   \n",
       "2883       1592.0       420.0         1.4146             49100.0   \n",
       "20045      1908.0       511.0         1.3952             43100.0   \n",
       "6092        985.0       416.0         3.1133            180600.0   \n",
       "\n",
       "       ocean_proximity_<1H OCEAN  ocean_proximity_INLAND  \\\n",
       "3101                           0                       1   \n",
       "5326                           1                       0   \n",
       "2883                           0                       1   \n",
       "20045                          0                       1   \n",
       "6092                           0                       1   \n",
       "\n",
       "       ocean_proximity_ISLAND  ocean_proximity_NEAR BAY  \\\n",
       "3101                        0                         0   \n",
       "5326                        0                         0   \n",
       "2883                        0                         0   \n",
       "20045                       0                         0   \n",
       "6092                        0                         0   \n",
       "\n",
       "       ocean_proximity_NEAR OCEAN  \n",
       "3101                            0  \n",
       "5326                            0  \n",
       "2883                            0  \n",
       "20045                           0  \n",
       "6092                            0  "
      ]
     },
     "execution_count": 11,
     "metadata": {},
     "output_type": "execute_result"
    }
   ],
   "source": [
    "data.sample(5)"
   ]
  },
  {
   "cell_type": "code",
   "execution_count": 14,
   "metadata": {},
   "outputs": [
    {
     "data": {
      "text/plain": [
       "173800.0"
      ]
     },
     "execution_count": 14,
     "metadata": {},
     "output_type": "execute_result"
    }
   ],
   "source": [
    "median = data[\"median_house_value\"].median()\n",
    "median"
   ]
  },
  {
   "cell_type": "code",
   "execution_count": 17,
   "metadata": {},
   "outputs": [],
   "source": [
    "data['above_median'] = (data['median_house_value'] - median) > 0"
   ]
  },
  {
   "cell_type": "code",
   "execution_count": 18,
   "metadata": {},
   "outputs": [
    {
     "data": {
      "text/html": [
       "<div>\n",
       "<style scoped>\n",
       "    .dataframe tbody tr th:only-of-type {\n",
       "        vertical-align: middle;\n",
       "    }\n",
       "\n",
       "    .dataframe tbody tr th {\n",
       "        vertical-align: top;\n",
       "    }\n",
       "\n",
       "    .dataframe thead th {\n",
       "        text-align: right;\n",
       "    }\n",
       "</style>\n",
       "<table border=\"1\" class=\"dataframe\">\n",
       "  <thead>\n",
       "    <tr style=\"text-align: right;\">\n",
       "      <th></th>\n",
       "      <th>longitude</th>\n",
       "      <th>latitude</th>\n",
       "      <th>housing_median_age</th>\n",
       "      <th>total_rooms</th>\n",
       "      <th>total_bedrooms</th>\n",
       "      <th>population</th>\n",
       "      <th>households</th>\n",
       "      <th>median_income</th>\n",
       "      <th>median_house_value</th>\n",
       "      <th>ocean_proximity_&lt;1H OCEAN</th>\n",
       "      <th>ocean_proximity_INLAND</th>\n",
       "      <th>ocean_proximity_ISLAND</th>\n",
       "      <th>ocean_proximity_NEAR BAY</th>\n",
       "      <th>ocean_proximity_NEAR OCEAN</th>\n",
       "      <th>above_median</th>\n",
       "    </tr>\n",
       "  </thead>\n",
       "  <tbody>\n",
       "    <tr>\n",
       "      <th>17537</th>\n",
       "      <td>-121.89</td>\n",
       "      <td>37.35</td>\n",
       "      <td>47.0</td>\n",
       "      <td>2879.0</td>\n",
       "      <td>631.0</td>\n",
       "      <td>2229.0</td>\n",
       "      <td>606.0</td>\n",
       "      <td>3.2599</td>\n",
       "      <td>183100.0</td>\n",
       "      <td>1</td>\n",
       "      <td>0</td>\n",
       "      <td>0</td>\n",
       "      <td>0</td>\n",
       "      <td>0</td>\n",
       "      <td>True</td>\n",
       "    </tr>\n",
       "    <tr>\n",
       "      <th>8994</th>\n",
       "      <td>-118.36</td>\n",
       "      <td>33.99</td>\n",
       "      <td>43.0</td>\n",
       "      <td>2657.0</td>\n",
       "      <td>548.0</td>\n",
       "      <td>1145.0</td>\n",
       "      <td>524.0</td>\n",
       "      <td>4.1375</td>\n",
       "      <td>287100.0</td>\n",
       "      <td>1</td>\n",
       "      <td>0</td>\n",
       "      <td>0</td>\n",
       "      <td>0</td>\n",
       "      <td>0</td>\n",
       "      <td>True</td>\n",
       "    </tr>\n",
       "    <tr>\n",
       "      <th>2106</th>\n",
       "      <td>-119.74</td>\n",
       "      <td>36.75</td>\n",
       "      <td>47.0</td>\n",
       "      <td>2236.0</td>\n",
       "      <td>418.0</td>\n",
       "      <td>1042.0</td>\n",
       "      <td>397.0</td>\n",
       "      <td>2.9545</td>\n",
       "      <td>59600.0</td>\n",
       "      <td>0</td>\n",
       "      <td>1</td>\n",
       "      <td>0</td>\n",
       "      <td>0</td>\n",
       "      <td>0</td>\n",
       "      <td>False</td>\n",
       "    </tr>\n",
       "    <tr>\n",
       "      <th>1418</th>\n",
       "      <td>-122.04</td>\n",
       "      <td>37.99</td>\n",
       "      <td>36.0</td>\n",
       "      <td>2765.0</td>\n",
       "      <td>495.0</td>\n",
       "      <td>1478.0</td>\n",
       "      <td>441.0</td>\n",
       "      <td>4.1250</td>\n",
       "      <td>136200.0</td>\n",
       "      <td>0</td>\n",
       "      <td>0</td>\n",
       "      <td>0</td>\n",
       "      <td>1</td>\n",
       "      <td>0</td>\n",
       "      <td>False</td>\n",
       "    </tr>\n",
       "    <tr>\n",
       "      <th>12925</th>\n",
       "      <td>-121.30</td>\n",
       "      <td>38.66</td>\n",
       "      <td>21.0</td>\n",
       "      <td>3824.0</td>\n",
       "      <td>634.0</td>\n",
       "      <td>1818.0</td>\n",
       "      <td>600.0</td>\n",
       "      <td>3.7120</td>\n",
       "      <td>139000.0</td>\n",
       "      <td>0</td>\n",
       "      <td>1</td>\n",
       "      <td>0</td>\n",
       "      <td>0</td>\n",
       "      <td>0</td>\n",
       "      <td>False</td>\n",
       "    </tr>\n",
       "  </tbody>\n",
       "</table>\n",
       "</div>"
      ],
      "text/plain": [
       "       longitude  latitude  housing_median_age  total_rooms  total_bedrooms  \\\n",
       "17537    -121.89     37.35                47.0       2879.0           631.0   \n",
       "8994     -118.36     33.99                43.0       2657.0           548.0   \n",
       "2106     -119.74     36.75                47.0       2236.0           418.0   \n",
       "1418     -122.04     37.99                36.0       2765.0           495.0   \n",
       "12925    -121.30     38.66                21.0       3824.0           634.0   \n",
       "\n",
       "       population  households  median_income  median_house_value  \\\n",
       "17537      2229.0       606.0         3.2599            183100.0   \n",
       "8994       1145.0       524.0         4.1375            287100.0   \n",
       "2106       1042.0       397.0         2.9545             59600.0   \n",
       "1418       1478.0       441.0         4.1250            136200.0   \n",
       "12925      1818.0       600.0         3.7120            139000.0   \n",
       "\n",
       "       ocean_proximity_<1H OCEAN  ocean_proximity_INLAND  \\\n",
       "17537                          1                       0   \n",
       "8994                           1                       0   \n",
       "2106                           0                       1   \n",
       "1418                           0                       0   \n",
       "12925                          0                       1   \n",
       "\n",
       "       ocean_proximity_ISLAND  ocean_proximity_NEAR BAY  \\\n",
       "17537                       0                         0   \n",
       "8994                        0                         0   \n",
       "2106                        0                         0   \n",
       "1418                        0                         1   \n",
       "12925                       0                         0   \n",
       "\n",
       "       ocean_proximity_NEAR OCEAN  above_median  \n",
       "17537                           0          True  \n",
       "8994                            0          True  \n",
       "2106                            0         False  \n",
       "1418                            0         False  \n",
       "12925                           0         False  "
      ]
     },
     "execution_count": 18,
     "metadata": {},
     "output_type": "execute_result"
    }
   ],
   "source": [
    "data.sample(5)"
   ]
  },
  {
   "cell_type": "markdown",
   "metadata": {},
   "source": [
    "Let's setup the data"
   ]
  },
  {
   "cell_type": "code",
   "execution_count": 21,
   "metadata": {},
   "outputs": [],
   "source": [
    "X = data.drop([\"median_house_value\",\"above_median\"],axis=1)\n",
    "Y = data[\"above_median\"]"
   ]
  },
  {
   "cell_type": "code",
   "execution_count": 24,
   "metadata": {},
   "outputs": [
    {
     "data": {
      "text/plain": [
       "Index(['longitude', 'latitude', 'housing_median_age', 'total_rooms',\n",
       "       'total_bedrooms', 'population', 'households', 'median_income',\n",
       "       'ocean_proximity_<1H OCEAN', 'ocean_proximity_INLAND',\n",
       "       'ocean_proximity_ISLAND', 'ocean_proximity_NEAR BAY',\n",
       "       'ocean_proximity_NEAR OCEAN'],\n",
       "      dtype='object')"
      ]
     },
     "execution_count": 24,
     "metadata": {},
     "output_type": "execute_result"
    }
   ],
   "source": [
    "X.columns"
   ]
  },
  {
   "cell_type": "markdown",
   "metadata": {},
   "source": [
    "### Training the model"
   ]
  },
  {
   "cell_type": "code",
   "execution_count": 30,
   "metadata": {},
   "outputs": [],
   "source": [
    "from sklearn.model_selection import train_test_split\n",
    "x_train,x_test,y_train,y_test = train_test_split(X,Y,test_size=0.2)"
   ]
  },
  {
   "cell_type": "code",
   "execution_count": 31,
   "metadata": {},
   "outputs": [
    {
     "data": {
      "text/plain": [
       "((15580, 13), (3895, 13))"
      ]
     },
     "execution_count": 31,
     "metadata": {},
     "output_type": "execute_result"
    }
   ],
   "source": [
    "x_train.shape,x_test.shape"
   ]
  },
  {
   "cell_type": "code",
   "execution_count": 32,
   "metadata": {},
   "outputs": [
    {
     "data": {
      "text/plain": [
       "((15580,), (3895,))"
      ]
     },
     "execution_count": 32,
     "metadata": {},
     "output_type": "execute_result"
    }
   ],
   "source": [
    "y_train.shape,y_test.shape"
   ]
  },
  {
   "cell_type": "code",
   "execution_count": 33,
   "metadata": {},
   "outputs": [],
   "source": [
    "from sklearn.linear_model import LogisticRegression\n",
    "logistic_model = LogisticRegression(solver='liblinear').fit(x_train,y_train)\n",
    "# solver : the algorithm under the hoood to solve the logistic problem\n",
    "# liblinear : this is good choice when the data set is small \n",
    "# and classification is binary"
   ]
  },
  {
   "cell_type": "code",
   "execution_count": 38,
   "metadata": {},
   "outputs": [
    {
     "name": "stdout",
     "output_type": "stream",
     "text": [
      "Training score:  0.8220795892169448\n"
     ]
    }
   ],
   "source": [
    "print(\"Training score: \" , logistic_model.score(x_train,y_train))"
   ]
  },
  {
   "cell_type": "code",
   "execution_count": 40,
   "metadata": {},
   "outputs": [],
   "source": [
    "y_pred = logistic_model.predict(x_test)"
   ]
  },
  {
   "cell_type": "markdown",
   "metadata": {},
   "source": [
    "## Evaluating the scores"
   ]
  },
  {
   "cell_type": "code",
   "execution_count": 50,
   "metadata": {},
   "outputs": [
    {
     "data": {
      "text/html": [
       "<div>\n",
       "<style scoped>\n",
       "    .dataframe tbody tr th:only-of-type {\n",
       "        vertical-align: middle;\n",
       "    }\n",
       "\n",
       "    .dataframe tbody tr th {\n",
       "        vertical-align: top;\n",
       "    }\n",
       "\n",
       "    .dataframe thead th {\n",
       "        text-align: right;\n",
       "    }\n",
       "</style>\n",
       "<table border=\"1\" class=\"dataframe\">\n",
       "  <thead>\n",
       "    <tr style=\"text-align: right;\">\n",
       "      <th></th>\n",
       "      <th>predicted</th>\n",
       "      <th>actual</th>\n",
       "    </tr>\n",
       "  </thead>\n",
       "  <tbody>\n",
       "    <tr>\n",
       "      <th>19269</th>\n",
       "      <td>True</td>\n",
       "      <td>False</td>\n",
       "    </tr>\n",
       "    <tr>\n",
       "      <th>10775</th>\n",
       "      <td>True</td>\n",
       "      <td>True</td>\n",
       "    </tr>\n",
       "    <tr>\n",
       "      <th>8077</th>\n",
       "      <td>True</td>\n",
       "      <td>True</td>\n",
       "    </tr>\n",
       "    <tr>\n",
       "      <th>17917</th>\n",
       "      <td>True</td>\n",
       "      <td>True</td>\n",
       "    </tr>\n",
       "    <tr>\n",
       "      <th>19414</th>\n",
       "      <td>False</td>\n",
       "      <td>False</td>\n",
       "    </tr>\n",
       "  </tbody>\n",
       "</table>\n",
       "</div>"
      ],
      "text/plain": [
       "       predicted  actual\n",
       "19269       True   False\n",
       "10775       True    True\n",
       "8077        True    True\n",
       "17917       True    True\n",
       "19414      False   False"
      ]
     },
     "execution_count": 50,
     "metadata": {},
     "output_type": "execute_result"
    }
   ],
   "source": [
    "df_pred_actual = pd.DataFrame({\"predicted\": y_pred,\"actual\":y_test})\n",
    "df_pred_actual.sample(5)"
   ]
  },
  {
   "cell_type": "code",
   "execution_count": 51,
   "metadata": {},
   "outputs": [
    {
     "name": "stdout",
     "output_type": "stream",
     "text": [
      "Testing score :  0.8164313222079589\n"
     ]
    }
   ],
   "source": [
    "from sklearn.metrics import accuracy_score\n",
    "print(\"Testing score : \", accuracy_score(y_test,y_pred))"
   ]
  }
 ],
 "metadata": {
  "kernelspec": {
   "display_name": "Python 3",
   "language": "python",
   "name": "python3"
  },
  "language_info": {
   "codemirror_mode": {
    "name": "ipython",
    "version": 3
   },
   "file_extension": ".py",
   "mimetype": "text/x-python",
   "name": "python",
   "nbconvert_exporter": "python",
   "pygments_lexer": "ipython3",
   "version": "3.6.5"
  }
 },
 "nbformat": 4,
 "nbformat_minor": 2
}
