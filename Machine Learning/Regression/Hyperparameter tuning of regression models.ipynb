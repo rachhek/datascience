{
 "cells": [
  {
   "cell_type": "markdown",
   "metadata": {},
   "source": [
    "## Hyperparameter tuning of regression model\n",
    "They are model configuration property and does not change during training  \n",
    "- model inputs (training data)\n",
    "- model parameters (they are the regression coeff in case of regression)\n",
    "- model hyperparameters (they are configuration property)"
   ]
  },
  {
   "cell_type": "markdown",
   "metadata": {},
   "source": [
    "### Hyperparameter tuning with grid search"
   ]
  },
  {
   "cell_type": "code",
   "execution_count": 43,
   "metadata": {},
   "outputs": [],
   "source": [
    "import pandas as pd\n",
    "import numpy as np\n",
    "import matplotlib.pyplot as plt\n",
    "\n",
    "from sklearn.model_selection import train_test_split\n",
    "from sklearn.metrics import r2_score\n",
    "from sklearn.preprocessing import StandardScaler\n",
    "\n",
    "from sklearn.linear_model import Lasso\n",
    "from sklearn.neighbors import KNeighborsRegressor\n",
    "from sklearn.tree import DecisionTreeRegressor\n",
    "from sklearn.svm import SVR\n",
    "\n",
    "from sklearn.model_selection import GridSearchCV\n"
   ]
  },
  {
   "cell_type": "code",
   "execution_count": 44,
   "metadata": {},
   "outputs": [
    {
     "data": {
      "text/html": [
       "<div>\n",
       "<style scoped>\n",
       "    .dataframe tbody tr th:only-of-type {\n",
       "        vertical-align: middle;\n",
       "    }\n",
       "\n",
       "    .dataframe tbody tr th {\n",
       "        vertical-align: top;\n",
       "    }\n",
       "\n",
       "    .dataframe thead th {\n",
       "        text-align: right;\n",
       "    }\n",
       "</style>\n",
       "<table border=\"1\" class=\"dataframe\">\n",
       "  <thead>\n",
       "    <tr style=\"text-align: right;\">\n",
       "      <th></th>\n",
       "      <th>mpg</th>\n",
       "      <th>cylinders</th>\n",
       "      <th>displacement</th>\n",
       "      <th>horsepower</th>\n",
       "      <th>weight</th>\n",
       "      <th>acceleration</th>\n",
       "      <th>age</th>\n",
       "    </tr>\n",
       "  </thead>\n",
       "  <tbody>\n",
       "    <tr>\n",
       "      <th>0</th>\n",
       "      <td>25.5</td>\n",
       "      <td>4</td>\n",
       "      <td>122.0</td>\n",
       "      <td>96</td>\n",
       "      <td>2300</td>\n",
       "      <td>15.5</td>\n",
       "      <td>43</td>\n",
       "    </tr>\n",
       "    <tr>\n",
       "      <th>1</th>\n",
       "      <td>27.2</td>\n",
       "      <td>4</td>\n",
       "      <td>141.0</td>\n",
       "      <td>71</td>\n",
       "      <td>3190</td>\n",
       "      <td>24.8</td>\n",
       "      <td>41</td>\n",
       "    </tr>\n",
       "    <tr>\n",
       "      <th>2</th>\n",
       "      <td>23.8</td>\n",
       "      <td>4</td>\n",
       "      <td>151.0</td>\n",
       "      <td>85</td>\n",
       "      <td>2855</td>\n",
       "      <td>17.6</td>\n",
       "      <td>42</td>\n",
       "    </tr>\n",
       "    <tr>\n",
       "      <th>3</th>\n",
       "      <td>34.0</td>\n",
       "      <td>4</td>\n",
       "      <td>112.0</td>\n",
       "      <td>88</td>\n",
       "      <td>2395</td>\n",
       "      <td>18.0</td>\n",
       "      <td>38</td>\n",
       "    </tr>\n",
       "    <tr>\n",
       "      <th>4</th>\n",
       "      <td>16.0</td>\n",
       "      <td>8</td>\n",
       "      <td>302.0</td>\n",
       "      <td>140</td>\n",
       "      <td>4141</td>\n",
       "      <td>14.0</td>\n",
       "      <td>46</td>\n",
       "    </tr>\n",
       "  </tbody>\n",
       "</table>\n",
       "</div>"
      ],
      "text/plain": [
       "    mpg  cylinders  displacement  horsepower  weight  acceleration  age\n",
       "0  25.5          4         122.0          96    2300          15.5   43\n",
       "1  27.2          4         141.0          71    3190          24.8   41\n",
       "2  23.8          4         151.0          85    2855          17.6   42\n",
       "3  34.0          4         112.0          88    2395          18.0   38\n",
       "4  16.0          8         302.0         140    4141          14.0   46"
      ]
     },
     "execution_count": 44,
     "metadata": {},
     "output_type": "execute_result"
    }
   ],
   "source": [
    "automobile_df = pd.read_csv(\"./datasets/auto-mpg-processed.csv\")\n",
    "automobile_df.head()"
   ]
  },
  {
   "cell_type": "code",
   "execution_count": null,
   "metadata": {},
   "outputs": [],
   "source": []
  },
  {
   "cell_type": "code",
   "execution_count": 45,
   "metadata": {},
   "outputs": [],
   "source": [
    "X = automobile_df.drop(['mpg','age'],axis=1)\n",
    "Y = automobile_df['mpg']\n",
    "x_train,x_test,y_train,y_test = train_test_split(X,Y,test_size=0.2)"
   ]
  },
  {
   "cell_type": "markdown",
   "metadata": {},
   "source": [
    "### Grid search on Lasso Regressor"
   ]
  },
  {
   "cell_type": "code",
   "execution_count": 46,
   "metadata": {},
   "outputs": [
    {
     "data": {
      "text/plain": [
       "{'alpha': 0.9}"
      ]
     },
     "execution_count": 46,
     "metadata": {},
     "output_type": "execute_result"
    }
   ],
   "source": [
    "parameters = {'alpha':[0.2,0.3,0.6,0.8,0.9,1.0]}\n",
    "\n",
    "grid_search = GridSearchCV(Lasso(),parameters,cv=3,return_train_score=True)\n",
    "grid_search.fit(x_train,y_train)\n",
    "\n",
    "grid_search.best_params_"
   ]
  },
  {
   "cell_type": "code",
   "execution_count": 47,
   "metadata": {},
   "outputs": [
    {
     "name": "stdout",
     "output_type": "stream",
     "text": [
      "parameters  {'alpha': 0.2}\n",
      "Mean Test score:  0.6991682941225713\n",
      "Rank:  6\n",
      "parameters  {'alpha': 0.3}\n",
      "Mean Test score:  0.6995488043840277\n",
      "Rank:  5\n",
      "parameters  {'alpha': 0.6}\n",
      "Mean Test score:  0.7001168418620658\n",
      "Rank:  4\n",
      "parameters  {'alpha': 0.8}\n",
      "Mean Test score:  0.7001201840612147\n",
      "Rank:  3\n",
      "parameters  {'alpha': 0.9}\n",
      "Mean Test score:  0.7001210080071267\n",
      "Rank:  1\n",
      "parameters  {'alpha': 1.0}\n",
      "Mean Test score:  0.7001205314878473\n",
      "Rank:  2\n"
     ]
    }
   ],
   "source": [
    "for i in range(6):\n",
    "    print(\"parameters \", grid_search.cv_results_['params'][i])\n",
    "    print(\"Mean Test score: \", grid_search.cv_results_['mean_test_score'][i])\n",
    "    print(\"Rank: \",grid_search.cv_results_['rank_test_score'][i])"
   ]
  },
  {
   "cell_type": "code",
   "execution_count": 48,
   "metadata": {},
   "outputs": [],
   "source": [
    "lasso_model = Lasso(alpha=grid_search.best_params_['alpha']).fit(x_train,y_train)"
   ]
  },
  {
   "cell_type": "code",
   "execution_count": 49,
   "metadata": {},
   "outputs": [],
   "source": [
    "y_pred = lasso_model.predict(x_test)"
   ]
  },
  {
   "cell_type": "code",
   "execution_count": 50,
   "metadata": {},
   "outputs": [
    {
     "name": "stdout",
     "output_type": "stream",
     "text": [
      "training score:  0.7078280403788706\n",
      "Test score:  0.6976014146001029\n"
     ]
    }
   ],
   "source": [
    "print(\"training score: \", lasso_model.score(x_train,y_train))\n",
    "print(\"Test score: \", r2_score(y_test,y_pred))"
   ]
  },
  {
   "cell_type": "markdown",
   "metadata": {},
   "source": [
    "### Grid search on KNeighborsRegressor"
   ]
  },
  {
   "cell_type": "code",
   "execution_count": 51,
   "metadata": {},
   "outputs": [
    {
     "data": {
      "text/plain": [
       "{'n_neighbors': 20}"
      ]
     },
     "execution_count": 51,
     "metadata": {},
     "output_type": "execute_result"
    }
   ],
   "source": [
    "parameters = {'n_neighbors':[10,12,14,18,20,25,35,50]}\n",
    "\n",
    "grid_search = GridSearchCV(KNeighborsRegressor(),parameters,cv=3,return_train_score=True)\n",
    "grid_search.fit(x_train,y_train)\n",
    "\n",
    "grid_search.best_params_"
   ]
  },
  {
   "cell_type": "code",
   "execution_count": 52,
   "metadata": {},
   "outputs": [
    {
     "name": "stdout",
     "output_type": "stream",
     "text": [
      "parameters  {'n_neighbors': 10}\n",
      "Mean Test score:  0.6950719769889242\n",
      "Rank:  8\n",
      "parameters  {'n_neighbors': 12}\n",
      "Mean Test score:  0.6990716542661675\n",
      "Rank:  7\n",
      "parameters  {'n_neighbors': 14}\n",
      "Mean Test score:  0.7095779027206064\n",
      "Rank:  5\n",
      "parameters  {'n_neighbors': 18}\n",
      "Mean Test score:  0.7152294974003176\n",
      "Rank:  4\n",
      "parameters  {'n_neighbors': 20}\n",
      "Mean Test score:  0.7196283126459915\n",
      "Rank:  1\n",
      "parameters  {'n_neighbors': 25}\n",
      "Mean Test score:  0.7184521579402842\n",
      "Rank:  2\n",
      "parameters  {'n_neighbors': 35}\n",
      "Mean Test score:  0.7171525881114326\n",
      "Rank:  3\n",
      "parameters  {'n_neighbors': 50}\n",
      "Mean Test score:  0.7072573042235719\n",
      "Rank:  6\n"
     ]
    }
   ],
   "source": [
    "for i in range(8):\n",
    "    print(\"parameters \", grid_search.cv_results_['params'][i])\n",
    "    print(\"Mean Test score: \", grid_search.cv_results_['mean_test_score'][i])\n",
    "    print(\"Rank: \",grid_search.cv_results_['rank_test_score'][i])"
   ]
  },
  {
   "cell_type": "code",
   "execution_count": 53,
   "metadata": {},
   "outputs": [
    {
     "name": "stdout",
     "output_type": "stream",
     "text": [
      "training score:  0.7462087219339162\n",
      "Test score:  0.6976014146001029\n"
     ]
    }
   ],
   "source": [
    "kneighbors_model = KNeighborsRegressor(n_neighbors=grid_search.best_params_['n_neighbors']).fit(x_train,y_train)\n",
    "y_pred = lasso_model.predict(x_test)\n",
    "print(\"training score: \", kneighbors_model.score(x_train,y_train))\n",
    "print(\"Test score: \", r2_score(y_test,y_pred))"
   ]
  },
  {
   "cell_type": "markdown",
   "metadata": {},
   "source": [
    "### Hyper parameter tuning for Decision Tree regressor"
   ]
  },
  {
   "cell_type": "code",
   "execution_count": 54,
   "metadata": {},
   "outputs": [
    {
     "data": {
      "text/plain": [
       "{'max_depth': 4}"
      ]
     },
     "execution_count": 54,
     "metadata": {},
     "output_type": "execute_result"
    }
   ],
   "source": [
    "parameters = {'max_depth':[1,2,3,4,5,6,7]}\n",
    "\n",
    "grid_search = GridSearchCV(DecisionTreeRegressor(),parameters,cv=3,return_train_score=True)\n",
    "grid_search.fit(x_train,y_train)\n",
    "\n",
    "grid_search.best_params_"
   ]
  },
  {
   "cell_type": "code",
   "execution_count": 56,
   "metadata": {},
   "outputs": [
    {
     "name": "stdout",
     "output_type": "stream",
     "text": [
      "training score:  0.7462087219339162\n",
      "Test score:  0.4754444017949485\n"
     ]
    }
   ],
   "source": [
    "decision_tree = DecisionTreeRegressor(max_depth=grid_search.best_params_['max_depth']).fit(x_train,y_train)\n",
    "y_pred = decision_tree.predict(x_test)\n",
    "print(\"training score: \", kneighbors_model.score(x_train,y_train))\n",
    "print(\"Test score: \", r2_score(y_test,y_pred))"
   ]
  }
 ],
 "metadata": {
  "kernelspec": {
   "display_name": "Python 3",
   "language": "python",
   "name": "python3"
  },
  "language_info": {
   "codemirror_mode": {
    "name": "ipython",
    "version": 3
   },
   "file_extension": ".py",
   "mimetype": "text/x-python",
   "name": "python",
   "nbconvert_exporter": "python",
   "pygments_lexer": "ipython3",
   "version": "3.6.5"
  }
 },
 "nbformat": 4,
 "nbformat_minor": 2
}
