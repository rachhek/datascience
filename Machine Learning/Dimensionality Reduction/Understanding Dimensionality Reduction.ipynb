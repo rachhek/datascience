{
 "cells": [
  {
   "cell_type": "markdown",
   "metadata": {},
   "source": [
    "# Dimensionality Reduction"
   ]
  },
  {
   "cell_type": "markdown",
   "metadata": {},
   "source": [
    "Need for dimensionality reduction\n",
    "- Sometimes our model might have a large number of features/dimensions. As the number of x variables grows, we can encounter many problems. Some of the problems are : \n",
    "    - problems in visualization\n",
    "        - It is hard to explore data when the dimensions are high. Hence, exploratory data analysis(EDA) gets hard\n",
    "        - EDA is important for identifying outliers, detecitng anomalies, and find relationships\n",
    "        - Two dimensional visualizations are good for EDA\n",
    "        - higher dimensional data is hard to explore prior to ML modellling\n",
    "    - problems in trianing\n",
    "        - Training is the process of finding the best model parameters\n",
    "        - Complex models might have millions of parameters\n",
    "        - high dimensional data might take long time to train. \n",
    "        - model might waste time finding patterns for dimensions that are useless\n",
    "        - training on-cloud can be extremely expensive\n",
    "    - problems in prediction\n",
    "        - prediction involves finding training instances similar to test instance\n",
    "        - as dimensionality grows, size of search space also grows.\n",
    "        - high number of X variables have high risk of overfitting\n",
    "\n",
    "Overfitting and data sparsity\n",
    "- it might feel like large number of features in training might lead to better results but it is not the case\n",
    "- overfitted model is the one that has low training error but high test error\n",
    "- some reasons for overfitting is due to the less training data and the model does not have enough data to find patterns\n",
    "\n",
    "Reducing Complexity:\n",
    "- Feature selection\n",
    "    - statistical techniques \n",
    "        - variance thresholding\n",
    "        - multual information\n",
    "        - ANOVA\n",
    "- dimensional reduction\n",
    "    - Projection\n",
    "    - autoencoding\n",
    "    - manifold learning"
   ]
  },
  {
   "cell_type": "markdown",
   "metadata": {},
   "source": [
    "Methods for selecting and eliminating features"
   ]
  },
  {
   "cell_type": "markdown",
   "metadata": {},
   "source": [
    "Feature selection using statistical techniques"
   ]
  },
  {
   "cell_type": "markdown",
   "metadata": {},
   "source": [
    "Dictionary learning and atom extraction"
   ]
  },
  {
   "cell_type": "markdown",
   "metadata": {},
   "source": [
    "## Reasons for choosing \"feature selection\":\n",
    "- many X-variables\n",
    "- most of them contain little information and only some of them are meaningful\n",
    "- meaningful variables are independent of each other\n",
    "- techniques of feature selection\n",
    "    - variance thresholding  \n",
    "    It says that columns with higher variance are more meaningful. So with this technique, we drop columns which has variance under a certain threshold\n",
    "    - Chi-square feature selection  \n",
    "    It checks to see what x-variables are significant for a particular y-value\n",
    "    - ANOVA(analysis of variance)  \n",
    "    it checks to see if the mean of Y category varies for each distinct value of X. If not we drop it.\n",
    "    - Mutual information\n",
    "    measures the amount of info obtained on one random variable by observing another. It also captures non-linear dependency\n",
    "    - dictionary learning  \n",
    "    representation learning method to find a sparse representation of input data"
   ]
  },
  {
   "cell_type": "markdown",
   "metadata": {},
   "source": [
    "# Dimensionality reduction\n",
    "- using PCA\n",
    "- using Linear Discriminant Analysis\n",
    "- using Singular value decomposition"
   ]
  },
  {
   "cell_type": "markdown",
   "metadata": {},
   "source": [
    "## Principal Component Analaysis\n",
    "\n",
    "When to choose PCA:\n",
    "- large number of X variables\n",
    "- most of the columns are meaningful\n",
    "- the columns might be highly correlated to each other\n",
    "- they might be linearly correlated to each "
   ]
  },
  {
   "cell_type": "markdown",
   "metadata": {},
   "source": [
    "## Manifold learning ( dimensionality reduction in non - linear data)"
   ]
  },
  {
   "cell_type": "markdown",
   "metadata": {},
   "source": [
    "When to choose Manifold learning?\n",
    "- when y is not linearly related to X\n",
    "- very high dimension of X(like image data)\n",
    "- sparse features\n",
    "- manifold hypothesis states that complex high dimensional data can be representetd/unrolled into low-dimensional embedding  \n",
    "\n",
    "types: \n",
    "- MDS (multidimensional Scaling)\n",
    "    - aims to preserve pair-wise euclidean distance between all points while reducing dimensionality\n",
    "- ISOMAP\n",
    "    - aims to preserver pair wise euclidean distance between neighboring points (not all points) while reducing dimension\n",
    "- kernel PCA\n",
    "- Spectral embedding\n",
    "    - builds a graph where each points serves as a node \n",
    "- LLE (locally linear embedding)\n",
    "    - expresses each points as centroid of nearest neighbors; then tries to mantain same weights upon conversion to new dimensions\n",
    "- t_SNE\n"
   ]
  },
  {
   "cell_type": "markdown",
   "metadata": {},
   "source": []
  }
 ],
 "metadata": {
  "kernelspec": {
   "display_name": "Python 3",
   "language": "python",
   "name": "python3"
  },
  "language_info": {
   "codemirror_mode": {
    "name": "ipython",
    "version": 3
   },
   "file_extension": ".py",
   "mimetype": "text/x-python",
   "name": "python",
   "nbconvert_exporter": "python",
   "pygments_lexer": "ipython3",
   "version": "3.7.3"
  }
 },
 "nbformat": 4,
 "nbformat_minor": 2
}
