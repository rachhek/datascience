{
 "cells": [
  {
   "cell_type": "markdown",
   "metadata": {},
   "source": [
    "## Ensemble Learning\n",
    "Technique of combining multiple ML models to give better predictions than a single model"
   ]
  },
  {
   "cell_type": "raw",
   "metadata": {},
   "source": []
  },
  {
   "cell_type": "markdown",
   "metadata": {},
   "source": [
    "-What kind of individual learners to user?\n",
    "    - individual model could be of any type\n",
    "    - its better for the learner to be as different as possible from others.\n",
    "    - most preferred learners are decision trees\n",
    "    - an ensemble of decision trees is a random forest\n",
    "- How should individual learners be trained?\n",
    "    - if learners are different, each learner can be trained on the entire dataset\n",
    "    - for similar learners, each model can be trained on subset of data or random set of features\n",
    "- How should individual learners be combined?\n",
    "    - "
   ]
  }
 ],
 "metadata": {
  "kernelspec": {
   "display_name": "Python 3",
   "language": "python",
   "name": "python3"
  },
  "language_info": {
   "codemirror_mode": {
    "name": "ipython",
    "version": 3
   },
   "file_extension": ".py",
   "mimetype": "text/x-python",
   "name": "python",
   "nbconvert_exporter": "python",
   "pygments_lexer": "ipython3",
   "version": "3.7.3"
  }
 },
 "nbformat": 4,
 "nbformat_minor": 2
}
