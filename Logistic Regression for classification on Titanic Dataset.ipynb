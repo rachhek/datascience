{
 "cells": [
  {
   "cell_type": "markdown",
   "metadata": {},
   "source": [
    "# Logistic regression for classification"
   ]
  },
  {
   "cell_type": "markdown",
   "metadata": {},
   "source": [
    "Basic intuition: Tries to fit in a S=curve into the data.  \n",
    "The output of the model is a probability  \n",
    "Cross Entropy: It is a cost function. It measure how well the estimated probabilities match actual labels  \n",
    "Low Cross entropy: the proability of y-actual and y-predicted are in sync.  \n",
    "High Cross entropy: the y-actual and y-predicted are not in sync.  \n",
    "The objectives is to minimize the cross entropy.  \n",
    "Evaluation technique of the model:\n",
    "1. Accuracy: \n",
    "2. Precision\n",
    "3. Recall\n",
    "\n",
    "Accuracy : more matches = higher accuracy  .\n",
    "Accuracy may not always be good. High accuracy does not always mean the model is good. For example, when dataset is skewed(when some labels are much more common or rare)  \n",
    "\n",
    "Confusion matrix: predicted labels vs actual labels  \n",
    "\n",
    "Precision : accuracy when classifer flags True TP/(TP+FP)  \n",
    "\n",
    "Recall : Accuracy of the model when the actual values are True TP/(TP + FN)\n",
    "\n",
    "A model can have very high accuracy but low precision and recall\n",
    "\n",
    "Threshold : This is the boundary that is used to classify a model\n",
    "\n",
    "ROC Curve : TP rate vs FP rate curve. (It is used to find the threshold that is good for our model that maximizes TP rate and minimizes FP rate). We plot the TP rate and FP rate for every threshold in our model. This curve is called ROC (Receiver Operating Curve) We should choose the top left corner of the curve."
   ]
  },
  {
   "cell_type": "code",
   "execution_count": null,
   "metadata": {},
   "outputs": [],
   "source": []
  }
 ],
 "metadata": {
  "kernelspec": {
   "display_name": "Python 3",
   "language": "python",
   "name": "python3"
  },
  "language_info": {
   "codemirror_mode": {
    "name": "ipython",
    "version": 3
   },
   "file_extension": ".py",
   "mimetype": "text/x-python",
   "name": "python",
   "nbconvert_exporter": "python",
   "pygments_lexer": "ipython3",
   "version": "3.6.5"
  }
 },
 "nbformat": 4,
 "nbformat_minor": 2
}
